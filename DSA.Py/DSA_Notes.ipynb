{
  "nbformat": 4,
  "nbformat_minor": 0,
  "metadata": {
    "colab": {
      "provenance": [],
      "authorship_tag": "ABX9TyM67Gs5aRIeKFHl5Jf8b9Pb",
      "include_colab_link": true
    },
    "kernelspec": {
      "name": "python3",
      "display_name": "Python 3"
    },
    "language_info": {
      "name": "python"
    }
  },
  "cells": [
    {
      "cell_type": "markdown",
      "metadata": {
        "id": "view-in-github",
        "colab_type": "text"
      },
      "source": [
        "<a href=\"https://colab.research.google.com/github/VedantAndhale/TIC/blob/main/DSA.Py/DSA_Notes.ipynb\" target=\"_parent\"><img src=\"https://colab.research.google.com/assets/colab-badge.svg\" alt=\"Open In Colab\"/></a>"
      ]
    },
    {
      "cell_type": "markdown",
      "source": [
        "# 1. List\n",
        "\n"
      ],
      "metadata": {
        "id": "1t7708FISlGM"
      }
    },
    {
      "cell_type": "markdown",
      "source": [
        "1. Insert and Search"
      ],
      "metadata": {
        "id": "kr07pEOIYS9C"
      }
    },
    {
      "cell_type": "code",
      "source": [
        "l = [10, 20, 30, 40, 50]\n",
        "l.append(30)\n",
        "print(l)\n",
        "l.insert(1, 15)\n",
        "# insert(index,element)\n",
        "print(l)\n",
        "print(15 in l)\n",
        "print(l.count(30))\n",
        "print(l.index(30))\n",
        "l[5]=30\n",
        "print(l)"
      ],
      "metadata": {
        "colab": {
          "base_uri": "https://localhost:8080/"
        },
        "id": "etsbBzPbanBl",
        "outputId": "25f2ac0a-f37c-42a5-a6ef-02590666e146"
      },
      "execution_count": 4,
      "outputs": [
        {
          "output_type": "stream",
          "name": "stdout",
          "text": [
            "[10, 20, 30, 40, 50, 30]\n",
            "[10, 15, 20, 30, 40, 50, 30]\n",
            "True\n",
            "2\n",
            "3\n",
            "[10, 15, 20, 30, 40, 30, 30]\n"
          ]
        }
      ]
    },
    {
      "cell_type": "markdown",
      "source": [
        "2. Remove elements from List\n",
        ""
      ],
      "metadata": {
        "id": "XiBAqvo0azJd"
      }
    },
    {
      "cell_type": "code",
      "source": [
        "l = [10, 20, 30, 40, 50, 60, 70, 80]\n",
        "l.remove(20) # .remove  only  remove the value.\n",
        "print(l)\n",
        "print(l.pop()) # .pop return the removal item as output\n",
        "print(l)\n",
        "print(l.pop(2))\n",
        "print(l)\n",
        "del l[1]\n",
        "print(l)\n",
        "del l[0:2]\n",
        "print(l)"
      ],
      "metadata": {
        "id": "pY9H2cGua4eY"
      },
      "execution_count": null,
      "outputs": []
    },
    {
      "cell_type": "markdown",
      "source": [
        "3. General Function for Lists"
      ],
      "metadata": {
        "id": "BFYWDS1Ha9xe"
      }
    },
    {
      "cell_type": "code",
      "source": [
        "l=[10,40,20,50]\n",
        "print(max(l))\n",
        "print(min(l))\n",
        "print(sum(l))\n",
        "l.reverse()\n",
        "print(l)\n",
        "l.sort()\n",
        "print(l)"
      ],
      "metadata": {
        "id": "T8BOy-LPbG31"
      },
      "execution_count": null,
      "outputs": []
    },
    {
      "cell_type": "markdown",
      "source": [
        "4. Average, Mean and Median of list\n"
      ],
      "metadata": {
        "id": "5cxoKayQbUmD"
      }
    },
    {
      "cell_type": "code",
      "source": [
        "def average(l):\n",
        "\n",
        "    sum = 0\n",
        "    for x in l:\n",
        "        sum = sum+x\n",
        "\n",
        "    n = len(l)\n",
        "    return sum/n\n",
        "\n",
        "l = [10,20,30,40]\n",
        "\n",
        "print(average(l))\n",
        "\n",
        "\n",
        "def fun_average(l):\n",
        "    return sum(l)/len(l)\n",
        "\n",
        "print(fun_average(l))"
      ],
      "metadata": {
        "colab": {
          "base_uri": "https://localhost:8080/"
        },
        "id": "I4nf2l0FbZXJ",
        "outputId": "4e61c95c-87c0-499e-cf7b-48b133f9cae6"
      },
      "execution_count": 6,
      "outputs": [
        {
          "output_type": "stream",
          "name": "stdout",
          "text": [
            "50\n",
            "10\n",
            "120\n",
            "[50, 20, 40, 10]\n",
            "[10, 20, 40, 50]\n"
          ]
        }
      ]
    },
    {
      "cell_type": "code",
      "source": [
        "def median(arr):\n",
        "\n",
        "    A.sort()\n",
        "\n",
        "    ##Your code here\n",
        "    if N % 2 == 0:\n",
        "        N = N // 2\n",
        "        return ((A[N - 1] + A[N]) // 2)\n",
        "    else:\n",
        "        N = (N+1) // 2\n",
        "        return (A[N - 1])\n",
        "\n",
        "arr=[10,20,30,40,50]\n",
        "\n",
        "median(arr)"
      ],
      "metadata": {
        "id": "aeaRP6CpjReX"
      },
      "execution_count": null,
      "outputs": []
    },
    {
      "cell_type": "markdown",
      "source": [
        "5. Find Even or Odd in list"
      ],
      "metadata": {
        "id": "jIbYjWzlbbpm"
      }
    },
    {
      "cell_type": "code",
      "source": [
        "def getEvenOdd(l):\n",
        "\n",
        "    even = []\n",
        "    odd = []\n",
        "\n",
        "    for x in l:\n",
        "        if x%2==0:\n",
        "\n",
        "            even.append(x)\n",
        "        else:\n",
        "            odd.append(x)\n",
        "\n",
        "    return even,odd\n",
        "\n",
        "l = [10,12,11,16]\n",
        "\n",
        "even,odd = getEvenOdd(l)\n",
        "\n",
        "print(even)\n",
        "\n",
        "print(odd)"
      ],
      "metadata": {
        "id": "LrobcSAjbiNK"
      },
      "execution_count": null,
      "outputs": []
    },
    {
      "cell_type": "markdown",
      "source": [
        "6. find element Immediate/closest smaller than x in list"
      ],
      "metadata": {
        "id": "nOZD4nXgbkah"
      }
    },
    {
      "cell_type": "code",
      "source": [
        "def getSmaller(l,x):\n",
        "\n",
        "    res = []\n",
        "\n",
        "    for e in l:\n",
        "        if e<x:\n",
        "            res.append(e)\n",
        "\n",
        "    return res\n",
        "\n",
        "l = [8,100,20,40,3,7]\n",
        "x = 10\n",
        "print(getSmaller(l,x))\n",
        ""
      ],
      "metadata": {
        "colab": {
          "base_uri": "https://localhost:8080/"
        },
        "id": "1l8ZHcF1bpR_",
        "outputId": "1a0301e0-37a7-4ccd-a120-bf3936efca38"
      },
      "execution_count": 7,
      "outputs": [
        {
          "output_type": "stream",
          "name": "stdout",
          "text": [
            "[8, 3, 7]\n"
          ]
        }
      ]
    },
    {
      "cell_type": "markdown",
      "source": [
        "7. find element Immediate/closest greater than x in list"
      ],
      "metadata": {
        "id": "JXqaobBD1Gja"
      }
    },
    {
      "cell_type": "code",
      "source": [
        "def immediateGreater(l,x):\n",
        "  temp=[]\n",
        "  for e in l:\n",
        "    if e>x:\n",
        "      temp.append(e)\n",
        "  if len(temp) == 0:\n",
        "    return -1\n",
        "  else:\n",
        "    return min(temp)\n",
        "l = [8,100,20,40,3,7]\n",
        "x = 10\n",
        "print(immediateGreater(l,x))"
      ],
      "metadata": {
        "colab": {
          "base_uri": "https://localhost:8080/"
        },
        "id": "YEYhrQAW1MYB",
        "outputId": "d211d905-166f-4742-dff6-f60854436919"
      },
      "execution_count": 13,
      "outputs": [
        {
          "output_type": "stream",
          "name": "stdout",
          "text": [
            "20\n"
          ]
        }
      ]
    },
    {
      "cell_type": "markdown",
      "source": [
        "8. Max and Min element"
      ],
      "metadata": {
        "id": "ejg8ZQPt2ece"
      }
    },
    {
      "cell_type": "code",
      "source": [
        "def maximumElement(l):\n",
        "\n",
        "    max = l[0]\n",
        "\n",
        "    for x in l:\n",
        "        if x > max:\n",
        "            max = x\n",
        "\n",
        "    return max\n",
        "\n",
        "\n",
        "def minimumElement(l):\n",
        "\n",
        "    min = l[0]\n",
        "\n",
        "    for x in l:\n",
        "        if x < min:\n",
        "            min = x\n",
        "\n",
        "    return min\n",
        "\n",
        "l = [5,4,2,1]\n",
        "print(maximumElement(l))\n",
        "print(minimumElement(l))"
      ],
      "metadata": {
        "colab": {
          "base_uri": "https://localhost:8080/"
        },
        "id": "-xJR8Lmf2iFy",
        "outputId": "ca2096d8-6b58-487a-c142-bbe3ea8fa643"
      },
      "execution_count": 20,
      "outputs": [
        {
          "output_type": "stream",
          "name": "stdout",
          "text": [
            "5\n",
            "1\n"
          ]
        }
      ]
    },
    {
      "cell_type": "markdown",
      "source": [
        "9. List Slicing"
      ],
      "metadata": {
        "id": "Ndb3TnKfbsUL"
      }
    },
    {
      "cell_type": "code",
      "source": [
        "l = [10,20,30,40,50]\n",
        "\n",
        "print(\"l[0:5:2]\",l[0:5:2])     # start:0, stop:5, step:2\n",
        "\n",
        "print(\"l[:4]\",l[:4])        # start: 0, stop:4, step:1\n",
        "\n",
        "print(\"l[2:]\",l[2:])        # start:2,  stop:end of string, step:1\n",
        "\n",
        "print(\"l[1:4]\",l[1:4])\n",
        "\n",
        "print(\"l[4:1:-1]\",l[4:1:-1])    #start:4, stop:1,step:-1\n",
        "\n",
        "print(\"l[-1:-6:-1]\",l[-1:-6:-1])  # start:end,\n",
        "\n",
        "print(\"l[::-1]\",l[::-1])\n",
        "\n",
        "print(\"l[0:5]\",l[0:5])\n",
        "\n",
        "print(\"l[:]\",l[:])"
      ],
      "metadata": {
        "id": "3Ue-_HugbyCx"
      },
      "execution_count": null,
      "outputs": []
    },
    {
      "cell_type": "markdown",
      "source": [
        "10. Slicing difference btw tuple,string,list"
      ],
      "metadata": {
        "id": "zDAmyYBPb-0D"
      }
    },
    {
      "cell_type": "code",
      "source": [
        "l = [10,20,30,40,50]\n",
        "\n",
        "print(\"l[0:5:2]\",l[0:5:2])     # start:0, stop:5, step:2\n",
        "\n",
        "print(\"l[:4]\",l[:4])        # start: 0, stop:4, step:1\n",
        "\n",
        "print(\"l[2:]\",l[2:])        # start:2,  stop:end of string, step:1\n",
        "\n",
        "print(\"l[1:4]\",l[1:4])\n",
        "\n",
        "print(\"l[4:1:-1]\",l[4:1:-1])    #start:4, stop:1,step:-1\n",
        "\n",
        "print(\"l[-1:-6:-1]\",l[-1:-6:-1])  # start:end,\n",
        "\n",
        "print(\"l[::-1]\",l[::-1])\n",
        "\n",
        "print(\"l[0:5]\",l[0:5])\n",
        "\n",
        "print(\"l[:]\",l[:])"
      ],
      "metadata": {
        "id": "RwYAcnCFcGj3"
      },
      "execution_count": null,
      "outputs": []
    },
    {
      "cell_type": "markdown",
      "source": [
        "11. List Comprehension"
      ],
      "metadata": {
        "id": "CcvLj0IRcc6w"
      }
    },
    {
      "cell_type": "code",
      "source": [
        "l1 = [x for x in range(11) if x%2==0]\n",
        "\n",
        "print(l1)\n",
        "\n",
        "l2 = [x for x in range(11) if x%2!=0]\n",
        "\n",
        "print(l2)"
      ],
      "metadata": {
        "id": "eTMUBFDLch3h"
      },
      "execution_count": null,
      "outputs": []
    },
    {
      "cell_type": "markdown",
      "source": [
        "12. set and dictionary Comprehension"
      ],
      "metadata": {
        "id": "-Z18NWF9ctQo"
      }
    },
    {
      "cell_type": "code",
      "source": [
        "l = {10,20,3,4,10,20,7,3}\n",
        "\n",
        "s1 = {x for x in l if x%2==0 }\n",
        "s2 = {x for x in l if x%2!=0 }  # set comprehension\n",
        "\n",
        "print(s1)\n",
        "print(s2)\n",
        "\n",
        "\n",
        "l1 = [1,3,4,2,5]\n",
        "\n",
        "d1 = {x:x**3 for x in l1}\n",
        "\n",
        "d2 = {x:f\"ID{x}\" for x in range(5)} # dictionary comprehension\n",
        "print(d2)\n",
        "\n",
        "\n",
        "l2 = [101,103,102]\n",
        "l3 = ['gfg','ide','corse']\n",
        "\n",
        "d3 = {l2[i]:l3[i] for i in range(len(l2)) }   # dictionary comprehension\n",
        "\n",
        "print(d3)\n",
        "\n",
        "\n",
        "d4 = dict(zip(l2,l3))\n",
        "\n",
        "print(d4)"
      ],
      "metadata": {
        "id": "-4vl7m7Ac0yd"
      },
      "execution_count": null,
      "outputs": []
    },
    {
      "cell_type": "markdown",
      "source": [
        "13. Inverting a Dictionary"
      ],
      "metadata": {
        "id": "E4nvgxRkdC3X"
      }
    },
    {
      "cell_type": "code",
      "source": [
        "d1 = {101:'gfg',103:'practice',102:'ide'}\n",
        "d2 = {v:k for (k,v) in d1.items() }\n",
        "\n",
        "print(d2)"
      ],
      "metadata": {
        "id": "NBiXDa_NdGu_"
      },
      "execution_count": null,
      "outputs": []
    },
    {
      "cell_type": "markdown",
      "source": [
        "14. Genrator Comprehension"
      ],
      "metadata": {
        "id": "49RMLU3MdPl2"
      }
    },
    {
      "cell_type": "code",
      "source": [
        "input_list = [1, 2, 3, 4, 4, 5, 6, 7, 7]\n",
        "\n",
        "output_gen = (var for var in input_list if var % 2 == 0)\n",
        "\n",
        "print(\"Output values using generator comprehensions:\", end = ' ')\n",
        "\n",
        "for var in output_gen:\n",
        "\tprint(var, end = ' ')"
      ],
      "metadata": {
        "id": "1lo_vlrTdRzs"
      },
      "execution_count": null,
      "outputs": []
    },
    {
      "cell_type": "markdown",
      "source": [
        "14. Find Largest ELement in List"
      ],
      "metadata": {
        "id": "DN2emDgndUUf"
      }
    },
    {
      "cell_type": "code",
      "source": [
        "#O(n2)\n",
        "def getMax(l):\n",
        "    for x in l:         # iterate for each element\n",
        "        for y in l:     # iterrate to compare with each element\n",
        "            if y > x:\n",
        "                break\n",
        "        else:           # if loop is exited naturally, no larger element found\n",
        "            return x\n",
        "    return None\n",
        "\n",
        "# O(n2)\n",
        "\n",
        "\n",
        "\n",
        "\n",
        "l = [int(x) for x in input().split()]\n",
        "print(getMax(l))"
      ],
      "metadata": {
        "id": "VCi24XDeda_7"
      },
      "execution_count": null,
      "outputs": []
    },
    {
      "cell_type": "code",
      "source": [
        "#O(n)\n",
        "def myMax(list1):\n",
        "\n",
        "    # Assume first number in list is largest\n",
        "    # initially and assign it to variable \"max\"\n",
        "    max = list1[0]\n",
        "# Now traverse through the list and compare\n",
        "    # each number with \"max\" value. Whichever is\n",
        "    # largest assign that value to \"max'.\n",
        "    for x in list1:\n",
        "        if x > max:\n",
        "            max = x\n",
        "\n",
        "    # after complete traversing the list\n",
        "    # return the \"max\" value\n",
        "    return max\n",
        "\n",
        "\n",
        "# Driver code\n",
        "list1 = [10, 20, 4, 45, 99]\n",
        "print(\"Largest element is:\", myMax(list1))"
      ],
      "metadata": {
        "id": "XOw1dj-4dp4r"
      },
      "execution_count": null,
      "outputs": []
    },
    {
      "cell_type": "code",
      "source": [
        "# Second Largest Element in Two Traversal a.k.a Navie Approach\n",
        "\n",
        "def getMax(l):\n",
        "    if not l:\n",
        "        return None\n",
        "    else:\n",
        "\n",
        "        res = l[0]                  # assume l[0] is the max\n",
        "        for i in range(1, len(l)):  # iterate through index 1 to last\n",
        "            if l[i] > res:           # check whether current element is greater than res\n",
        "                res = l[i]          # if current element is greater than res ,update res to current\n",
        "        return res\n",
        "\n",
        "def getSecMax(l):\n",
        "    if len(l) <= 1:\n",
        "        return None\n",
        "    lar = getMax(l)\n",
        "    slar = None\n",
        "\n",
        "    for x in l:\n",
        "\n",
        "        if x != lar:\n",
        "            if slar == None:\n",
        "                slar = x\n",
        "            else:\n",
        "                slar = max(x, slar)\n",
        "    return slar\n",
        "\n",
        "l = [int(x) for x in input().split()]\n",
        "print(getSecMax(l))"
      ],
      "metadata": {
        "id": "KkoT6E19dx5u"
      },
      "execution_count": null,
      "outputs": []
    },
    {
      "cell_type": "code",
      "source": [
        "# Second Largest Element in Single Traversal a.k.a Efficiant Approach\n",
        "def getSecMax(l):\n",
        "    if len(l) <= 1:\n",
        "        return None\n",
        "    lar = l[0]; slar = None\n",
        "\n",
        "    for x in l[1:]:\n",
        "        if x > lar:         # if current element is greater than lar(largest element)\n",
        "            slar = lar          # update slar to largest\n",
        "            lar = x         # update lar to current element(largest)\n",
        "\n",
        "        elif x != lar:      # if x is less then largest and not equal to lar(largest element)\n",
        "            if slar == None or slar < x:    # if x is greater then second largest\n",
        "                slar = x                    # assign current element is second largest\n",
        "    return slar\n",
        "\n",
        "l = [int(x) for x in input().split()]\n",
        "print(getSecMax(l))\n",
        "\n"
      ],
      "metadata": {
        "id": "kTUsefhYeDUk"
      },
      "execution_count": null,
      "outputs": []
    },
    {
      "cell_type": "markdown",
      "source": [
        "16. Check if List is Sorted"
      ],
      "metadata": {
        "id": "PGXJezPZeVwS"
      }
    },
    {
      "cell_type": "code",
      "source": [
        "def isSorted(l):\n",
        "    i = 1\n",
        "\n",
        "    while i< len(l):\n",
        "\n",
        "        if l[i]<l[i-1]:\n",
        "\n",
        "            return False\n",
        "        i=i+1\n",
        "\n",
        "    return True\n",
        "\n",
        "\n",
        "def func_isSorted(l):\n",
        "    l2 = sorted(l)\n",
        "\n",
        "    if l==l2:\n",
        "        return True\n",
        "    else:\n",
        "        return False\n",
        "\n",
        "\n",
        "l = [10,20,30,15,40]\n",
        "\n",
        "if isSorted(l):\n",
        "    print(\"Yes\")\n",
        "elif func_isSorted(l):\n",
        "    print(\"Yes\")\n",
        "else:\n",
        "    print(\"No\")"
      ],
      "metadata": {
        "id": "Cuz7HWYzee1J"
      },
      "execution_count": null,
      "outputs": []
    },
    {
      "cell_type": "markdown",
      "source": [
        "17. Reverse a list"
      ],
      "metadata": {
        "id": "E4tRSIvpeg6o"
      }
    },
    {
      "cell_type": "code",
      "source": [
        "# Using In-Built Function\n",
        "l = [10,20,30]\n",
        "l.reverse()     # reverse given list\n",
        "print(l)\n",
        "\n",
        "l = [10,20,30]\n",
        "new_l = list(reversed(l))   # return new reversed list\n",
        "print(new_l)\n",
        "\n",
        "l = [10,20,30]\n",
        "new_l = l[::-1]             # return new reversed list\n",
        "print(new_l)\n"
      ],
      "metadata": {
        "id": "R0UxAHgSemR3"
      },
      "execution_count": 3,
      "outputs": []
    },
    {
      "cell_type": "code",
      "source": [
        "# using custom function\n",
        "\n",
        "def reverseList(l):\n",
        "    s = 0\n",
        "    e = len(l) - 1\n",
        "\n",
        "    while s < e:\n",
        "        l[s], l[e] = l[e], l[s] # swapping left element to right and right element to left\n",
        "        s = s + 1\n",
        "        e = e - 1\n",
        "\n",
        "\n",
        "\n",
        "l = [int(x) for x in input().split(',')]\n",
        "reverseList(l)\n",
        "print(l)\n",
        "\n"
      ],
      "metadata": {
        "id": "NGbTIlBMewzT"
      },
      "execution_count": null,
      "outputs": []
    },
    {
      "cell_type": "markdown",
      "source": [
        "18. Find duplicate elements in list"
      ],
      "metadata": {
        "id": "uwLxXQxfe_u7"
      }
    },
    {
      "cell_type": "code",
      "source": [
        "# naive approach\n",
        "\n",
        "def removeDuplicates(arr, n):\n",
        "    temp=[0]*n\n",
        "    temp[0]=arr[0]\n",
        "    res=1\n",
        "    for i in range(1, n):\n",
        "        if(temp[res-1]!=arr[i]):\n",
        "            temp[res]=arr[i]\n",
        "            res+=1\n",
        "    for i in range(0, res):\n",
        "        arr[i]=temp[i]\n",
        "\n",
        "    return res\n",
        "\n",
        "n=7\n",
        "arr=[10, 20, 20, 30, 30, 30, 30]\n",
        "print(removeDuplicates(arr, n))"
      ],
      "metadata": {
        "id": "IsTIwTFAfIPJ"
      },
      "execution_count": null,
      "outputs": []
    },
    {
      "cell_type": "code",
      "source": [
        "# efficient approach\n",
        "\n",
        "def removeDuplicates(arr, n):\n",
        "    res=1\n",
        "    for i in range(1, n):\n",
        "        if(arr[res-1]!=arr[i]):\n",
        "            arr[res]=arr[i]\n",
        "            res+=1\n",
        "    return res\n",
        "\n",
        "n=7\n",
        "arr=[10, 20, 20, 30, 30, 30, 30]\n",
        "print(removeDuplicates(arr, n))"
      ],
      "metadata": {
        "id": "nx09jjVkfMP5"
      },
      "execution_count": null,
      "outputs": []
    },
    {
      "cell_type": "markdown",
      "source": [
        "19. Rotate a element in list"
      ],
      "metadata": {
        "id": "Sr9LXCjmfT75"
      }
    },
    {
      "cell_type": "code",
      "source": [
        "# single element using inbuilt function\n",
        "\n",
        "l = [10, 20, 30, 40]\n",
        "l = l[1:] + l[0:1]\n",
        "print(l)\n",
        "\n",
        "l = [10, 20, 30, 40]\n",
        "l.append(l.pop(0))\n",
        "\n",
        "print(l)\n"
      ],
      "metadata": {
        "id": "FkwjVrpQfdxO"
      },
      "execution_count": null,
      "outputs": []
    },
    {
      "cell_type": "code",
      "source": [
        "# custom function\n",
        "\n",
        "def rotateByone(l):\n",
        "    n = len(l)\n",
        "    x = l[0]\n",
        "    for i in range(1, n):\n",
        "        l[i - 1] = l[i]\n",
        "\n",
        "    l[n - 1] = x\n",
        "\n",
        "l = [10, 20, 30, 40]\n",
        "rotateByone(l)\n",
        "print(l)"
      ],
      "metadata": {
        "id": "z8G1uj2jflvL"
      },
      "execution_count": null,
      "outputs": []
    },
    {
      "cell_type": "markdown",
      "source": [
        "20. find the element which occurs odd times"
      ],
      "metadata": {
        "id": "L-xahIJefwnc"
      }
    },
    {
      "cell_type": "code",
      "source": [
        "# brute force\n",
        "\n",
        "def getOddOccurrence(arr, arr_size):\n",
        "\n",
        "\tfor i in range(0,arr_size):\n",
        "\t\tcount = 0\n",
        "\t\tfor j in range(0, arr_size):\n",
        "\t\t\tif arr[i] == arr[j]:\n",
        "\t\t\t\tcount+=1\n",
        "\n",
        "\t\tif (count % 2 != 0):\n",
        "\t\t\treturn arr[i]\n",
        "\n",
        "\treturn -1\n",
        "\n",
        "\n",
        "# driver code\n",
        "arr = [2, 3, 5, 4, 5, 2, 4, 3, 5, 2, 4, 4, 2 ]\n",
        "n = len(arr)\n",
        "print(getOddOccurrence(arr, n))"
      ],
      "metadata": {
        "id": "Um1TYNacf1X3"
      },
      "execution_count": null,
      "outputs": []
    },
    {
      "cell_type": "code",
      "source": [
        "# efficient approach\n",
        "# Python program to find the element occurring odd number of times\n",
        "\n",
        "def getOddOccurrence(arr):\n",
        "\n",
        "\t# Initialize result\n",
        "\tres = 0\n",
        "\n",
        "\t# Traverse the array\n",
        "\tfor element in arr:\n",
        "\t\t# XOR with the result\n",
        "\t\tres = res ^ element\n",
        "\n",
        "\treturn res\n",
        "\n",
        "# Test array\n",
        "arr = [ 2, 3, 5, 4, 5, 2, 4, 3, 5, 2, 4, 4, 2]\n",
        "\n",
        "print(\"%d\" % getOddOccurrence(arr))"
      ],
      "metadata": {
        "id": "XFOocRwxf8K8"
      },
      "execution_count": null,
      "outputs": []
    },
    {
      "cell_type": "markdown",
      "source": [
        "# 2. Recursion\n"
      ],
      "metadata": {
        "id": "yT7wlq31TLTV"
      }
    },
    {
      "cell_type": "markdown",
      "source": [],
      "metadata": {
        "id": "qbrmFJIiYS1Y"
      }
    },
    {
      "cell_type": "markdown",
      "source": [
        "# 3. Hashing\n"
      ],
      "metadata": {
        "id": "wPGc7wdaTLeU"
      }
    },
    {
      "cell_type": "markdown",
      "source": [],
      "metadata": {
        "id": "eYtCHZ5iYa2j"
      }
    },
    {
      "cell_type": "markdown",
      "source": [
        "# 4. String\n"
      ],
      "metadata": {
        "id": "UUdABw_QTLjI"
      }
    },
    {
      "cell_type": "markdown",
      "source": [],
      "metadata": {
        "id": "0dSoeYIyYbVX"
      }
    },
    {
      "cell_type": "markdown",
      "source": [
        "# 5. Linked List\n"
      ],
      "metadata": {
        "id": "uNfrAHnWTLnc"
      }
    },
    {
      "cell_type": "markdown",
      "source": [],
      "metadata": {
        "id": "btYM_1Z6Yb0i"
      }
    }
  ]
}